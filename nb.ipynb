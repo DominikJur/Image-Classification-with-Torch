{
 "cells": [
  {
   "cell_type": "code",
   "execution_count": 1,
   "metadata": {},
   "outputs": [],
   "source": [
    "import torch\n",
    "import torch.nn as nn\n",
    "import torch.optim as optim\n",
    "from torchvision import datasets, transforms\n",
    "from torch.utils.data import DataLoader\n",
    "import matplotlib.pyplot as plt\n",
    "import numpy as np\n",
    "\n",
    "# Define transformations for the dataset\n",
    "transform = transforms.Compose(\n",
    "    [\n",
    "        transforms.ToTensor(),  # Convert images to PyTorch tensors\n",
    "        transforms.Normalize((0.5,), (0.5,)),  # Normalize images\n",
    "    ]\n",
    ")\n",
    "\n",
    "# Download and load the training and test datasets\n",
    "train_dataset = datasets.MNIST(\n",
    "    root=\"./data\", train=True, transform=transform, download=True\n",
    ")\n",
    "test_dataset = datasets.MNIST(\n",
    "    root=\"./data\", train=False, transform=transform, download=True\n",
    ")\n",
    "\n",
    "train_loader = DataLoader(train_dataset, batch_size=64, shuffle=True)\n",
    "test_loader = DataLoader(test_dataset, batch_size=64, shuffle=True)"
   ]
  },
  {
   "cell_type": "code",
   "execution_count": 2,
   "metadata": {},
   "outputs": [
    {
     "data": {
      "image/png": "[encoded data removed]",
      "text/plain": [
       "<Figure size 640x480 with 1 Axes>"
      ]
     },
     "metadata": {},
     "output_type": "display_data"
    }
   ],
   "source": [
    "def imshow(img):\n",
    "    npimg = img[0].numpy()\n",
    "    plt.imshow(np.transpose(npimg, (1, 2, 0)))\n",
    "    plt.show()\n",
    "\n",
    "\n",
    "imshow(train_dataset[0])"
   ]
  },
  {
   "cell_type": "code",
   "execution_count": 3,
   "metadata": {},
   "outputs": [],
   "source": [
    "class NeuralNet(nn.Module):\n",
    "    def __init__(self):\n",
    "        super(NeuralNet, self).__init__()\n",
    "        self.layer1 = nn.Linear(28 * 28, 128)\n",
    "        self.layer2 = nn.Linear(128, 64)\n",
    "        self.layer3 = nn.Linear(64, 10)\n",
    "        self.relu = nn.ReLU()\n",
    "\n",
    "    def forward(self, x):\n",
    "        x = x.view(-1, 28 * 28)\n",
    "        x = self.layer1(x)\n",
    "        x = self.relu(x)\n",
    "        x = self.layer2(x)\n",
    "        x = self.relu(x)\n",
    "        x = self.layer3(x)\n",
    "        return x"
   ]
  },
  {
   "cell_type": "code",
   "execution_count": 4,
   "metadata": {},
   "outputs": [],
   "source": [
    "model = NeuralNet()\n",
    "\n",
    "\n",
    "def train_model(model, train_loader, criterion, optimizer, num_epochs=5):\n",
    "    for epoch in range(num_epochs):\n",
    "        for i, (images, labels) in enumerate(train_loader):\n",
    "            optimizer.zero_grad()\n",
    "            outputs = model(images)\n",
    "            loss = criterion(outputs, labels)\n",
    "            loss.backward()\n",
    "            optimizer.step()\n",
    "            if (i + 1) % 100 == 0:\n",
    "                print(\n",
    "                    f\"Epoch {epoch + 1}/{num_epochs}, Step {i + 1}, Loss: {loss.item()}\"\n",
    "                )"
   ]
  },
  {
   "cell_type": "code",
   "execution_count": 5,
   "metadata": {},
   "outputs": [
    {
     "name": "stdout",
     "output_type": "stream",
     "text": [
      "Epoch 1/5, Step 100, Loss: 0.74443119764328\n",
      "Epoch 1/5, Step 200, Loss: 0.5120555758476257\n",
      "Epoch 1/5, Step 300, Loss: 0.488384872674942\n",
      "Epoch 1/5, Step 400, Loss: 0.41190996766090393\n",
      "Epoch 1/5, Step 500, Loss: 0.5318652391433716\n",
      "Epoch 1/5, Step 600, Loss: 0.3392443358898163\n",
      "Epoch 1/5, Step 700, Loss: 0.3941456079483032\n",
      "Epoch 1/5, Step 800, Loss: 0.2174713909626007\n",
      "Epoch 1/5, Step 900, Loss: 0.22120991349220276\n",
      "Epoch 2/5, Step 100, Loss: 0.24053364992141724\n",
      "Epoch 2/5, Step 200, Loss: 0.25982069969177246\n",
      "Epoch 2/5, Step 300, Loss: 0.1457451432943344\n",
      "Epoch 2/5, Step 400, Loss: 0.17976893484592438\n",
      "Epoch 2/5, Step 500, Loss: 0.2656867802143097\n",
      "Epoch 2/5, Step 600, Loss: 0.2540113627910614\n",
      "Epoch 2/5, Step 700, Loss: 0.1499020755290985\n",
      "Epoch 2/5, Step 800, Loss: 0.15715086460113525\n",
      "Epoch 2/5, Step 900, Loss: 0.21626344323158264\n",
      "Epoch 3/5, Step 100, Loss: 0.2217206060886383\n",
      "Epoch 3/5, Step 200, Loss: 0.05805328115820885\n",
      "Epoch 3/5, Step 300, Loss: 0.10314220935106277\n",
      "Epoch 3/5, Step 400, Loss: 0.18784137070178986\n",
      "Epoch 3/5, Step 500, Loss: 0.10813296586275101\n",
      "Epoch 3/5, Step 600, Loss: 0.12947097420692444\n",
      "Epoch 3/5, Step 700, Loss: 0.058370064944028854\n",
      "Epoch 3/5, Step 800, Loss: 0.13091214001178741\n",
      "Epoch 3/5, Step 900, Loss: 0.05001477152109146\n",
      "Epoch 4/5, Step 100, Loss: 0.1255495846271515\n",
      "Epoch 4/5, Step 200, Loss: 0.10948856920003891\n",
      "Epoch 4/5, Step 300, Loss: 0.10877486318349838\n",
      "Epoch 4/5, Step 400, Loss: 0.086153045296669\n",
      "Epoch 4/5, Step 500, Loss: 0.04771137610077858\n",
      "Epoch 4/5, Step 600, Loss: 0.16137360036373138\n",
      "Epoch 4/5, Step 700, Loss: 0.044006798416376114\n",
      "Epoch 4/5, Step 800, Loss: 0.06235171854496002\n",
      "Epoch 4/5, Step 900, Loss: 0.22613076865673065\n",
      "Epoch 5/5, Step 100, Loss: 0.01817476935684681\n",
      "Epoch 5/5, Step 200, Loss: 0.01812577433884144\n",
      "Epoch 5/5, Step 300, Loss: 0.09940217435359955\n",
      "Epoch 5/5, Step 400, Loss: 0.00634976988658309\n",
      "Epoch 5/5, Step 500, Loss: 0.057065192610025406\n",
      "Epoch 5/5, Step 600, Loss: 0.15060751140117645\n",
      "Epoch 5/5, Step 700, Loss: 0.12032219022512436\n",
      "Epoch 5/5, Step 800, Loss: 0.09411260485649109\n",
      "Epoch 5/5, Step 900, Loss: 0.17219047248363495\n"
     ]
    }
   ],
   "source": [
    "train_model(\n",
    "    model, train_loader, nn.CrossEntropyLoss(), optim.Adam(model.parameters(), lr=0.001)\n",
    ")"
   ]
  },
  {
   "cell_type": "code",
   "execution_count": 6,
   "metadata": {},
   "outputs": [
    {
     "data": {
      "text/plain": [
       "NeuralNet(\n",
       "  (layer1): Linear(in_features=784, out_features=128, bias=True)\n",
       "  (layer2): Linear(in_features=128, out_features=64, bias=True)\n",
       "  (layer3): Linear(in_features=64, out_features=10, bias=True)\n",
       "  (relu): ReLU()\n",
       ")"
      ]
     },
     "execution_count": 6,
     "metadata": {},
     "output_type": "execute_result"
    }
   ],
   "source": [
    "model.eval()  # trun train mode OFF"
   ]
  },
  {
   "cell_type": "code",
   "execution_count": 7,
   "metadata": {},
   "outputs": [
    {
     "name": "stdout",
     "output_type": "stream",
     "text": [
      "Accuracy: 96.46%\n"
     ]
    }
   ],
   "source": [
    "total = 0\n",
    "correct = 0\n",
    "\n",
    "with torch.no_grad():  # No need to compute gradients\n",
    "    for images, labels in test_loader:\n",
    "        outputs = model(images)\n",
    "        _, predicted = torch.max(outputs, 1)  # Get the index of the max log-probability\n",
    "        total += labels.size(0)\n",
    "        correct += (predicted == labels).sum().item()\n",
    "\n",
    "print(f\"Accuracy: {100 * correct / total:.2f}%\")"
   ]
  },
  {
   "cell_type": "code",
   "execution_count": 8,
   "metadata": {},
   "outputs": [],
   "source": [
    "def display_model_predictions(model, test_loader, num_images=5):\n",
    "    images, labels = next(iter(test_loader))\n",
    "    outputs = model(images)\n",
    "    _, predicted = torch.max(outputs, 1)\n",
    "\n",
    "    fig, axes = plt.subplots(1, num_images, figsize=(15, 15))\n",
    "    for i in range(num_images):\n",
    "        image = images[i] / 2 + 0.5  # Unnormalize\n",
    "        axes[i].imshow(image.permute(1, 2, 0).numpy())\n",
    "        axes[i].set_title(f\"Label: {labels[i]}, Predicted: {predicted[i]}\")\n",
    "        axes[i].axis(\"off\")\n",
    "    plt.show()"
   ]
  },
  {
   "cell_type": "code",
   "execution_count": 9,
   "metadata": {},
   "outputs": [
    {
     "data": {
      "image/png": "[encoded data removed]",
      "text/plain": [
       "<Figure size 1500x1500 with 5 Axes>"
      ]
     },
     "metadata": {},
     "output_type": "display_data"
    }
   ],
   "source": [
    "display_model_predictions(model, test_loader)"
   ]
  },
  {
   "cell_type": "code",
   "execution_count": 10,
   "metadata": {},
   "outputs": [
    {
     "name": "stdout",
     "output_type": "stream",
     "text": [
      "----------------------------------------------------------------\n",
      "        Layer (type)               Output Shape         Param #\n",
      "================================================================\n",
      "            Linear-1                  [-1, 128]         100,480\n",
      "              ReLU-2                  [-1, 128]               0\n",
      "            Linear-3                   [-1, 64]           8,256\n",
      "              ReLU-4                   [-1, 64]               0\n",
      "            Linear-5                   [-1, 10]             650\n",
      "================================================================\n",
      "Total params: 109,386\n",
      "Trainable params: 109,386\n",
      "Non-trainable params: 0\n",
      "----------------------------------------------------------------\n",
      "Input size (MB): 0.00\n",
      "Forward/backward pass size (MB): 0.00\n",
      "Params size (MB): 0.42\n",
      "Estimated Total Size (MB): 0.42\n",
      "----------------------------------------------------------------\n"
     ]
    }
   ],
   "source": [
    "from torchsummary import summary\n",
    "\n",
    "\n",
    "summary(model, (1, 28, 28))"
   ]
  },
  {
   "cell_type": "markdown",
   "metadata": {},
   "source": [
    "### Compare with random forest"
   ]
  },
  {
   "cell_type": "code",
   "execution_count": 11,
   "metadata": {},
   "outputs": [],
   "source": [
    "from sklearn.ensemble import RandomForestClassifier\n",
    "\n",
    "\n",
    "run_rf = False  # Set to True to run the random forest model\n",
    "\n",
    "if run_rf:\n",
    "    rf = RandomForestClassifier(n_estimators=100)\n",
    "    rf.fit(train_dataset.data.view(-1, 28 * 28), train_dataset.targets)\n",
    "\n",
    "    print(\n",
    "        f\"Accuracy: {rf.score(test_dataset.data.view(-1, 28 * 28), test_dataset.targets) * 100:.2f}%\"\n",
    "    )"
   ]
  },
  {
   "cell_type": "markdown",
   "metadata": {},
   "source": [
    "### Both OK\n"
   ]
  }
 ],
 "metadata": {
  "kernelspec": {
   "display_name": "venv",
   "language": "python",
   "name": "python3"
  },
  "language_info": {
   "codemirror_mode": {
    "name": "ipython",
    "version": 3
   },
   "file_extension": ".py",
   "mimetype": "text/x-python",
   "name": "python",
   "nbconvert_exporter": "python",
   "pygments_lexer": "ipython3",
   "version": "3.12.7"
  }
 },
 "nbformat": 4,
 "nbformat_minor": 2
}
